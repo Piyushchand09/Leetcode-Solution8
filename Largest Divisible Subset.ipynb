{
 "cells": [
  {
   "cell_type": "code",
   "execution_count": null,
   "id": "44974840",
   "metadata": {
    "vscode": {
     "languageId": "plaintext"
    }
   },
   "outputs": [],
   "source": [
    "# Largest Divisible Subset\n",
    "class Solution:\n",
    "    def largestDivisibleSubset(self, nums: List[int]) -> List[int]:\n",
    "        # The code inside the function should be indented\n",
    "        if not nums:\n",
    "            return []\n",
    "\n",
    "        n = len(nums)\n",
    "        nums.sort()  # Sort the input numbers\n",
    "\n",
    "        dp = [1] * n  # Initialize dp array to store the size of the largest subset ending at each index\n",
    "        predecessor = [-1] * n  # Store the predecessor of each number in the largest subset\n",
    "\n",
    "        maxSize = 1\n",
    "        maxIndex = 0\n",
    "\n",
    "        for i in range(1, n):\n",
    "            for j in range(i):\n",
    "                if nums[i] % nums[j] == 0:\n",
    "                    if dp[i] < dp[j] + 1:\n",
    "                        dp[i] = dp[j] + 1\n",
    "                        predecessor[i] = j\n",
    "            if dp[i] > maxSize:\n",
    "                maxSize = dp[i]\n",
    "                maxIndex = i\n",
    "\n",
    "        result = []\n",
    "        index = maxIndex\n",
    "        while index != -1:\n",
    "            result.append(nums[index])\n",
    "            index = predecessor[index]\n",
    "\n",
    "        return result[::-1] # Reverse the result to get the correct order"
   ]
  }
 ],
 "metadata": {
  "kernelspec": {
   "display_name": "Python 3 (ipykernel)",
   "language": "python",
   "name": "python3"
  },
  "language_info": {
   "codemirror_mode": {
    "name": "ipython",
    "version": 3
   },
   "file_extension": ".py",
   "mimetype": "text/x-python",
   "name": "python",
   "nbconvert_exporter": "python",
   "pygments_lexer": "ipython3",
   "version": "3.12.4"
  }
 },
 "nbformat": 4,
 "nbformat_minor": 5
}
